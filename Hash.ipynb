{
 "cells": [
  {
   "cell_type": "markdown",
   "metadata": {},
   "source": [
    "## Hash"
   ]
  },
  {
   "cell_type": "markdown",
   "metadata": {},
   "source": [
    "### Hashing"
   ]
  },
  {
   "cell_type": "code",
   "execution_count": 1,
   "metadata": {},
   "outputs": [
    {
     "name": "stdout",
     "output_type": "stream",
     "text": [
      "Help on built-in function hash in module builtins:\n",
      "\n",
      "hash(obj, /)\n",
      "    Return the hash value for the given object.\n",
      "    \n",
      "    Two objects that compare equal must also have the same hash value, but the\n",
      "    reverse is not necessarily true.\n",
      "\n"
     ]
    },
    {
     "data": {
      "text/plain": [
       "'\\nReturn the hash value of the object (if it has one).\\nHash values are integers.\\n---->  They are used to quickly compare dictionary keys during a dictionary lookup.\\nNumeric values that compare equal have the same hash value (even if they are of different types, as is the case for 1 and 1.0).\\nNote For objects with custom __hash__() methods, note that hash() truncates the return value based on the bit width of the host machine.\\n'"
      ]
     },
     "execution_count": 1,
     "metadata": {},
     "output_type": "execute_result"
    }
   ],
   "source": [
    "help(hash)\n",
    "\n",
    "'''\n",
    "Return the hash value of the object (if it has one).\n",
    "Hash values are integers.\n",
    "---->  They are used to quickly compare dictionary keys during a dictionary lookup.\n",
    "Numeric values that compare equal have the same hash value (even if they are of different types, as is the case for 1 and 1.0).\n",
    "Note For objects with custom __hash__() methods, note that hash() truncates the return value based on the bit width of the host machine.\n",
    "'''\n"
   ]
  },
  {
   "cell_type": "code",
   "execution_count": 2,
   "metadata": {},
   "outputs": [
    {
     "name": "stdout",
     "output_type": "stream",
     "text": [
      "unhashable type: 'list'\n"
     ]
    }
   ],
   "source": [
    "li = ['abc', 123, (0, 1)]\n",
    "try:\n",
    "    hash(li)\n",
    "except Exception as e:\n",
    "    print(e)"
   ]
  },
  {
   "cell_type": "code",
   "execution_count": 3,
   "metadata": {},
   "outputs": [
    {
     "name": "stdout",
     "output_type": "stream",
     "text": [
      "{'MD4', 'SHA224', 'ecdsa-with-SHA1', 'DSA', 'sha3_256', 'sha3_512', 'SHA', 'SHA384', 'dsaWithSHA', 'md5', 'SHA1', 'md4', 'blake2s', 'SHA256', 'sha', 'ripemd160', 'MD5', 'sha3_224', 'sha3_384', 'SHA512', 'sha224', 'sha256', 'sha512', 'DSA-SHA', 'dsaEncryption', 'RIPEMD160', 'shake_256', 'sha384', 'blake2b', 'whirlpool', 'shake_128', 'sha1'}\n"
     ]
    }
   ],
   "source": [
    "import hashlib\n",
    "print(hashlib.algorithms_available)"
   ]
  },
  {
   "cell_type": "code",
   "execution_count": 4,
   "metadata": {},
   "outputs": [
    {
     "data": {
      "text/plain": [
       "'00000001'"
      ]
     },
     "execution_count": 4,
     "metadata": {},
     "output_type": "execute_result"
    }
   ],
   "source": [
    "def myHash(i):\n",
    "    return \"%.8X\" % (i % 2147483647)\n",
    "\n",
    "myHash(1)"
   ]
  },
  {
   "cell_type": "markdown",
   "metadata": {},
   "source": [
    "### Bloom Filter : a membership function\n",
    "\n",
    "[Wiki] A Bloom filter is a space-efficient probabilistic data structure, conceived by Burton Howard Bloom in 1970, that is used **to test whether an element is a member of a set**. False positive matches are possible, but false negatives are not – in other words, a query returns either \"possibly in set\" or \"definitely not in set\". Elements can be added to the set, but not removed (though this can be addressed with a \"counting\" filter); the more elements that are added to the set, the larger the probability of false positives."
   ]
  },
  {
   "cell_type": "code",
   "execution_count": 5,
   "metadata": {},
   "outputs": [],
   "source": [
    "class myBM:\n",
    "    \n",
    "    bits = None\n",
    "    my_k = [13, 41, 71, 107, 307, 419, 877]\n",
    "    size = 1024 #* 1024\n",
    "    \n",
    "    def __init__(self, data = None):\n",
    "        if data == None:\n",
    "            self.bits = list([False]*self.size)\n",
    "        else:\n",
    "            self.bits = list([False]*self.size)\n",
    "            for i in data:\n",
    "                self.add(i)\n",
    "        \n",
    "    def add(self, newItem):\n",
    "        for k in self.my_k:\n",
    "            v = self.__myhash(newItem, k)\n",
    "            self.bits[v] = True\n",
    "    \n",
    "    def __myhash(self, i, k):\n",
    "        return i % k\n",
    "    \n",
    "    def __contains__(self, i):\n",
    "        for k in self.my_k:\n",
    "            v = self.__myhash(i, k)\n",
    "            if self.bits[v] == False:\n",
    "                return False\n",
    "        return True"
   ]
  },
  {
   "cell_type": "code",
   "execution_count": 6,
   "metadata": {},
   "outputs": [],
   "source": [
    "bm = myBM()\n",
    "\n",
    "members = [18, 346, 672, 823, 74]\n",
    "for m in members:\n",
    "    bm.add(m)"
   ]
  },
  {
   "cell_type": "code",
   "execution_count": 7,
   "metadata": {},
   "outputs": [
    {
     "name": "stdout",
     "output_type": "stream",
     "text": [
      "True\n",
      "True\n",
      "True\n",
      "False\n",
      "False\n",
      "False\n"
     ]
    }
   ],
   "source": [
    "print(74 in bm)\n",
    "print(346 in bm)\n",
    "print(823 in bm)\n",
    "\n",
    "print(1 in bm)\n",
    "print(88 in bm)\n",
    "print(298 in bm)"
   ]
  },
  {
   "cell_type": "markdown",
   "metadata": {},
   "source": [
    "### Find an example of false positive "
   ]
  },
  {
   "cell_type": "code",
   "execution_count": 8,
   "metadata": {},
   "outputs": [
    {
     "name": "stdout",
     "output_type": "stream",
     "text": [
      "3\n",
      "4\n",
      "5\n",
      "8\n",
      "9\n",
      "16\n",
      "30\n",
      "FP rate: 0.0068359375\n"
     ]
    }
   ],
   "source": [
    "count = 0\n",
    "for i in range(bm.size):\n",
    "    if i in bm and i not in members:\n",
    "        count += 1\n",
    "        print(i)\n",
    "print(\"FP rate:\", count/bm.size)"
   ]
  },
  {
   "cell_type": "code",
   "execution_count": 9,
   "metadata": {},
   "outputs": [],
   "source": [
    "# Question: how to design a better my_k?"
   ]
  },
  {
   "cell_type": "markdown",
   "metadata": {},
   "source": [
    "Theoretical Analysis of false positive is here.\n",
    "\n",
    "https://people.eecs.berkeley.edu/~daw/teaching/cs170-s03/Notes/lecture10.pdf"
   ]
  },
  {
   "cell_type": "markdown",
   "metadata": {},
   "source": [
    "### Collisions\n",
    "\n",
    "The simplest way to handle collisions is to use a method called **separate chaining**. Each entry in the hash table serves as a head of a list containing all the keys that are hashed into the entry."
   ]
  },
  {
   "cell_type": "code",
   "execution_count": 10,
   "metadata": {},
   "outputs": [],
   "source": [
    "class mySet:\n",
    "    li = None\n",
    "    k = 13\n",
    "    \n",
    "    def __init__(self):\n",
    "        self.li = [None]*self.k\n",
    "        \n",
    "    def __myhash(self, item):\n",
    "        return item % self.k\n",
    "        \n",
    "    def add(self, newItem):\n",
    "        h = self.__myhash(newItem)\n",
    "        if self.li[h] != None:\n",
    "            if newItem not in self.li[h]:\n",
    "                self.li[h].append(newItem) # try to rewrite this by using sorted list\n",
    "        else:\n",
    "            self.li[h] = [newItem]\n",
    "    \n",
    "    def __str__(self):\n",
    "        return str(self.li)\n",
    "    \n",
    "    def __contains__(self, item):\n",
    "        h = self.__myhash(item)\n",
    "        return True if item in self.li[h] else False # try to rewrite it by using binary search"
   ]
  },
  {
   "cell_type": "code",
   "execution_count": 11,
   "metadata": {},
   "outputs": [],
   "source": [
    "s = mySet()\n",
    "for i in range(30):\n",
    "    s.add(i)"
   ]
  },
  {
   "cell_type": "code",
   "execution_count": 12,
   "metadata": {},
   "outputs": [
    {
     "name": "stdout",
     "output_type": "stream",
     "text": [
      "[[0, 13, 26], [1, 14, 27], [2, 15, 28], [3, 16, 29], [4, 17], [5, 18], [6, 19], [7, 20], [8, 21], [9, 22], [10, 23], [11, 24], [12, 25]]\n"
     ]
    }
   ],
   "source": [
    "print(s)"
   ]
  },
  {
   "cell_type": "code",
   "execution_count": 13,
   "metadata": {},
   "outputs": [
    {
     "name": "stdout",
     "output_type": "stream",
     "text": [
      "False\n",
      "True\n"
     ]
    }
   ],
   "source": [
    "print(45 in s)\n",
    "print(11 in s)"
   ]
  },
  {
   "cell_type": "markdown",
   "metadata": {},
   "source": [
    "### Collisions: open addressing\n",
    "\n",
    "Given a collection of items, a hash function that maps each item into a unique **slot** is referred to as a **perfect hash function**. If the hash function is perfect, collisions will never occur. However, since this is often not possible, collision resolution becomes a very important part of hashing.\n",
    "\n",
    "Open addressing: Another simple way to deal with collision is to start at the original hash value position and then move in a sequential manner through the slots until we encounter the first slot that is empty. By systematically visiting each slot one at a time, we are performing an open addressing technique called **linear probing**.\n",
    "\n",
    "Note that we may need to go back to the first slot (circularly) to cover the entire hash table."
   ]
  },
  {
   "cell_type": "markdown",
   "metadata": {},
   "source": [
    "A disadvantage to linear probing is the tendency for **clustering**. This means that if many collisions occur at the same hash value, a number of surrounding slots will be filled by the linear probing resolution."
   ]
  },
  {
   "cell_type": "markdown",
   "metadata": {},
   "source": [
    "### Collisions: rehashing\n",
    "\n",
    "One way to deal with clustering is to extend the linear probing technique so that instead of looking sequentially for the next open slot, we skip slots, thereby more evenly distributing the items that have caused collisions. This will potentially reduce the clustering that occurs.\n",
    "\n",
    "For example, once a collision occurs, we will look at every third slot until we find one that is empty.\n",
    "\n",
    "$newhashvalue=rehash(oldhashvalue)$\n",
    "\n",
    "$rehash(pos) = (pos+3)$ % $sizeoftable$"
   ]
  },
  {
   "cell_type": "markdown",
   "metadata": {},
   "source": [
    "A variation of the linear probing idea is called **quadratic probing**.\n",
    "\n",
    "Instead of using a constant skip value, we use a rehash function that increments the hash value by 1, 3, 5, 7, 9, and so on. This means that if the first hash value is $h$, the successive values are $h+1$, $h+4$, $h+9$, $h+16$, and so on.\n",
    "\n",
    "Question: when to stop rehashing?"
   ]
  },
  {
   "cell_type": "markdown",
   "metadata": {},
   "source": [
    "### Map\n",
    "\n",
    "One of the most useful Python collections is the dictionary. Recall that a dictionary is an associative data type where you can store **key–value** pairs. The key is used to look up the associated data value. We often refer to this idea as a **map**.\n",
    "\n",
    "\n",
    "* **Map()** Create a new, empty map. It returns an empty map collection.\n",
    "* **put(key,val)** Add a new key-value pair to the map. If the key is already in the map then replace the old value with the new value.\n",
    "* **get(key)** Given a key, return the value stored in the map or None otherwise.\n",
    "* **del** Delete the key-value pair from the map using a statement of the form del map[key].\n",
    "* **len()** Return the number of key-value pairs stored in the map.\n",
    "* **in** Return True for a statement of the form key in map, if the given key is in the map, False otherwise."
   ]
  },
  {
   "cell_type": "code",
   "execution_count": 14,
   "metadata": {},
   "outputs": [],
   "source": [
    "class MyHashTable:\n",
    "    def __init__(self):\n",
    "        self.size = 11\n",
    "        self.keys = [None] * self.size\n",
    "        self.values = [None] * self.size\n",
    "        \n",
    "    def put(self, key, value):\n",
    "        hashvalue = self.hashfunction(key, self.size)\n",
    "\n",
    "        # add new item to the slot\n",
    "        if self.keys[hashvalue] == None:\n",
    "            self.keys[hashvalue] = key\n",
    "            self.values[hashvalue] = value\n",
    "        else:\n",
    "            # replace net value into slot\n",
    "            if self.keys[hashvalue] == key:\n",
    "                self.values[hashvalue] = value\n",
    "            # collision\n",
    "            else:\n",
    "                # find next empty slot\n",
    "                nextslot = self.rehash(hashvalue, self.size)\n",
    "                while self.keys[nextslot] != None and self.keys[nextslot] != key:\n",
    "                    nextslot = self.rehash(nextslot, self.size)\n",
    "                \n",
    "                # add new item to non-empty slot\n",
    "                if self.keys[nextslot] == None: # add\n",
    "                    self.keys[nextslot] = key\n",
    "                    self.values[nextslot] = value\n",
    "                else: # replace\n",
    "                    self.values[nextslot] = value\n",
    "\n",
    "    def hashfunction(self, key, size):\n",
    "        return key % size\n",
    "    \n",
    "    def rehash(self, oldhash, size):\n",
    "        return (oldhash + 1) % size\n",
    "    \n",
    "    def get(self, key):\n",
    "        startslot = self.hashfunction(key, self.size)\n",
    "        \n",
    "        value = None\n",
    "        stop = False\n",
    "        found = False\n",
    "        position = startslot\n",
    "        while self.keys[position] != None and not found and not stop:\n",
    "            if self.keys[position] == key:\n",
    "                found = True\n",
    "                value = self.values[position]\n",
    "            else:\n",
    "                position = self.rehash(position, self.size)\n",
    "                if position == startslot:\n",
    "                    stop = True\n",
    "        return value\n",
    "    \n",
    "    # default function of []\n",
    "    def __getitem__(self,key):\n",
    "        return self.get(key)\n",
    "    \n",
    "    def __setitem__(self, key, value):\n",
    "        self.put(key, value)"
   ]
  },
  {
   "cell_type": "code",
   "execution_count": 15,
   "metadata": {},
   "outputs": [],
   "source": [
    "H = MyHashTable()\n",
    "H[54] = \"cat\"\n",
    "H[26] = \"dog\"\n",
    "H[93] = \"lion\"\n",
    "H[17] = \"tiger\"\n",
    "H[77] = \"bird\"\n",
    "H[31] = \"cow\"\n",
    "H[44] = \"goat\"\n",
    "H[55] = \"pig\"\n",
    "H[20] = \"chicken\""
   ]
  },
  {
   "cell_type": "code",
   "execution_count": 16,
   "metadata": {},
   "outputs": [
    {
     "name": "stdout",
     "output_type": "stream",
     "text": [
      "[77, 44, 55, 20, 26, 93, 17, None, None, 31, 54]\n",
      "['bird', 'goat', 'pig', 'chicken', 'dog', 'lion', 'tiger', None, None, 'cow', 'cat']\n"
     ]
    }
   ],
   "source": [
    "print(H.keys)\n",
    "print(H.values)"
   ]
  },
  {
   "cell_type": "code",
   "execution_count": 17,
   "metadata": {},
   "outputs": [
    {
     "name": "stdout",
     "output_type": "stream",
     "text": [
      "[(77, 'bird'), (44, 'goat'), (55, 'pig'), (20, 'chicken'), (26, 'dog'), (93, 'lion'), (17, 'tiger'), (None, None), (None, None), (31, 'cow'), (54, 'cat')]\n"
     ]
    }
   ],
   "source": [
    "print(list(zip(H.keys, H.values)))"
   ]
  },
  {
   "cell_type": "code",
   "execution_count": 18,
   "metadata": {},
   "outputs": [
    {
     "name": "stdout",
     "output_type": "stream",
     "text": [
      "[(77, 'bird'), (44, 'goat'), (55, 'pig'), (20, 'duck'), (26, 'dog'), (93, 'lion'), (17, 'tiger'), (None, None), (None, None), (31, 'cow'), (54, 'cat')]\n"
     ]
    }
   ],
   "source": [
    "H[20] = 'duck'\n",
    "print(list(zip(H.keys, H.values)))"
   ]
  },
  {
   "cell_type": "markdown",
   "metadata": {},
   "source": [
    "### Analysis of Hashing\n",
    "\n",
    "In the best case hashing would provide a $O(1)$, constant time search technique. However, due to collisions, the number of comparisons is typically not so simple."
   ]
  }
 ],
 "metadata": {
  "kernelspec": {
   "display_name": "Python [default]",
   "language": "python",
   "name": "python3"
  },
  "language_info": {
   "codemirror_mode": {
    "name": "ipython",
    "version": 3
   },
   "file_extension": ".py",
   "mimetype": "text/x-python",
   "name": "python",
   "nbconvert_exporter": "python",
   "pygments_lexer": "ipython3",
   "version": "3.6.3"
  }
 },
 "nbformat": 4,
 "nbformat_minor": 2
}
