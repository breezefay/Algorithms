{
 "cells": [
  {
   "cell_type": "markdown",
   "metadata": {},
   "source": [
    "## Minimum Edit Distance\n",
    "\n",
    "The minimum steps (delete, insert, replace) from A to B.\n",
    "\n",
    "Note: similar to global alignment, but with different initial table and scores. It is also a dynamic programming problem.\n",
    "\n",
    "Let $A = a_1, a_2, \\dots, a_n$ and $B = b_1, b_2, \\dots, b_m$ be two strings of characters.We would like to change $A$ character by character such that it becomes equal to $B$. For each step, we allow insertion, deletion or replacemet. Our goal is to minimize the number of steps.\n",
    "\n",
    "**Induction!** We denote $A(i)$ and $B(j)$ be the prefix substring $a_1, a_2, \\dots, a_i$ and $b_1, b_2, \\dots, b_j$, respectively. Our problem is to change $A(i)$ to $B(j)$ with a minimum number of edit steps, denoted as $C(i,j)$. By induction, we can find $C(n, m)$"
   ]
  },
  {
   "cell_type": "code",
   "execution_count": 1,
   "metadata": {},
   "outputs": [],
   "source": [
    "A = \"0TGTTACGG\" # index i\n",
    "B = \"0GGTTGACTA\" # index j\n",
    "\n",
    "n = len(A)\n",
    "m = len(B)"
   ]
  },
  {
   "cell_type": "code",
   "execution_count": 2,
   "metadata": {},
   "outputs": [
    {
     "data": {
      "text/plain": [
       "[[0, 1, 2, 3, 4, 5, 6, 7, 8, 9],\n",
       " [1, 0, 0, 0, 0, 0, 0, 0, 0, 0],\n",
       " [2, 0, 0, 0, 0, 0, 0, 0, 0, 0],\n",
       " [3, 0, 0, 0, 0, 0, 0, 0, 0, 0],\n",
       " [4, 0, 0, 0, 0, 0, 0, 0, 0, 0],\n",
       " [5, 0, 0, 0, 0, 0, 0, 0, 0, 0],\n",
       " [6, 0, 0, 0, 0, 0, 0, 0, 0, 0],\n",
       " [7, 0, 0, 0, 0, 0, 0, 0, 0, 0],\n",
       " [8, 0, 0, 0, 0, 0, 0, 0, 0, 0]]"
      ]
     },
     "execution_count": 2,
     "metadata": {},
     "output_type": "execute_result"
    }
   ],
   "source": [
    "import pprint\n",
    "\n",
    "C = [[0 if j != 0 else i for j in range(m)] if i != 0 else [j for j in range(m)] for i in range(n)]\n",
    "C"
   ]
  },
  {
   "cell_type": "markdown",
   "metadata": {},
   "source": [
    "There are four possibilities for each step. \n",
    "\n",
    "* Delete: if $a_n$ is deleted in the minimum change for A to B. The best change would be from $A(n-1)$ to $B(m)$ and them one more deletion. In other wors, $C(n, m) = C(n-1, m) + 1$\n",
    "\n",
    "* Insert: if the minimum change from $A$ to $B$ involves insertion of a character to match $b_m$, then we have $C(n, m) = C(n, m-1) + 1$.\n",
    "\n",
    "* Replace: if $a_n$ is replacing $b_m$, we first need to find the minimum change from $A(n-1)$ to $B(m-1)$ and then to add 1 if $a_n \\neq b_m$.\n",
    "\n",
    "* Match: if $a_n = b_m$, then $C(n, m) = C(n-1, m-1)$. "
   ]
  },
  {
   "cell_type": "markdown",
   "metadata": {},
   "source": [
    "$c(i,j) = 0$ if $a_i == b_j$ else $1$\n",
    "\n",
    "$C(n,m) = min( C(n-1,m)+1, C(n, m-1)+1, C(n-1, m-1) + c(n,m) )$\n"
   ]
  },
  {
   "cell_type": "code",
   "execution_count": 3,
   "metadata": {},
   "outputs": [],
   "source": [
    "def Minimum_Edit_Distance(A, B):\n",
    "    global C\n",
    "    \n",
    "    n = len(A)\n",
    "    m = len(B)\n",
    "    \n",
    "    for i in range(1, n):\n",
    "        for j in range(1, m):\n",
    "            delete = C[i-1][j] + 1 \n",
    "            insert = C[i][j-1] + 1\n",
    "            if A[i] == B[j]:\n",
    "                match_or_replace = C[i-1][j-1]\n",
    "            else:\n",
    "                match_or_replace = C[i-1][j-1] + 1\n",
    "                \n",
    "            C[i][j]= min(delete, insert, match_or_replace)"
   ]
  },
  {
   "cell_type": "code",
   "execution_count": 4,
   "metadata": {},
   "outputs": [],
   "source": [
    "Minimum_Edit_Distance(A, B)"
   ]
  },
  {
   "cell_type": "code",
   "execution_count": 5,
   "metadata": {},
   "outputs": [
    {
     "name": "stdout",
     "output_type": "stream",
     "text": [
      "   0  G  G  T  T  G  A  C  T  A \n",
      "0 [0, 1, 2, 3, 4, 5, 6, 7, 8, 9]\n",
      "T [1, 1, 2, 2, 3, 4, 5, 6, 7, 8]\n",
      "G [2, 1, 1, 2, 3, 3, 4, 5, 6, 7]\n",
      "T [3, 2, 2, 1, 2, 3, 4, 5, 5, 6]\n",
      "T [4, 3, 3, 2, 1, 2, 3, 4, 5, 6]\n",
      "A [5, 4, 4, 3, 2, 2, 2, 3, 4, 5]\n",
      "C [6, 5, 5, 4, 3, 3, 3, 2, 3, 4]\n",
      "G [7, 6, 5, 5, 4, 3, 4, 3, 3, 4]\n",
      "G [8, 7, 6, 6, 5, 4, 4, 4, 4, 4]\n"
     ]
    }
   ],
   "source": [
    "# Not algorithm, just for printing\n",
    "print(\"  \", end='')\n",
    "for j in range(len(B)):\n",
    "    print(\" {0:2s}\".format(B[j]), end=\"\")\n",
    "print()\n",
    "\n",
    "for i, row in enumerate(C):\n",
    "    print(A[i]+\" \", end='')\n",
    "    print(row)"
   ]
  },
  {
   "cell_type": "code",
   "execution_count": 6,
   "metadata": {},
   "outputs": [],
   "source": [
    "# Q: C(n,m) = 4, what is the 4 steps to change A to B?"
   ]
  }
 ],
 "metadata": {
  "kernelspec": {
   "display_name": "Python 3",
   "language": "python",
   "name": "python3"
  },
  "language_info": {
   "codemirror_mode": {
    "name": "ipython",
    "version": 3
   },
   "file_extension": ".py",
   "mimetype": "text/x-python",
   "name": "python",
   "nbconvert_exporter": "python",
   "pygments_lexer": "ipython3",
   "version": "3.6.5"
  }
 },
 "nbformat": 4,
 "nbformat_minor": 2
}
