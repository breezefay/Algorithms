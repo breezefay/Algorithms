{
 "cells": [
  {
   "cell_type": "markdown",
   "metadata": {},
   "source": [
    "### The Knapsack Problem\n",
    "\n",
    "Suppose that we are given a *knapsack* and we want to pack it until it fully with items. There may be many different items of different shapes and sizes, and our goal is to pack the knapsack as full as possible.\n",
    "\n",
    "**Problem**: Give an integer $K$ and $n$ items of different sizes such that the $i$th item has an integer size $k_i$, find a subset of the items whose sizes sum to exactly $K$, or determine that no such subset exists.\n",
    "\n",
    "We denote the problem by $P(n, K)$, such that $n$ denotes the number of items and $K$ denotes the size of the knapsack.\n",
    "\n",
    "Note that we do not include the sizes in the notation of the problem."
   ]
  },
  {
   "cell_type": "markdown",
   "metadata": {},
   "source": [
    "**Induction hypothesis (first attempt)**: We know how to solve $P(n-1, K)$.\n",
    "\n",
    "* The base case is easy; there is a solution only if the single element is of size $K$.\n",
    "\n",
    "* 1) If there is a solution to $P(n-1, K)$, that is a way to pack some of the $n-1$ items into the knapsack --- then we are done; we simply not use the $n$th item.\n",
    "\n",
    "* 2) If there is no solution for $P(n-1, K)$, then we include the $n$th item and check $P(n-1, K-k_n)$.\n",
    "\n",
    "In this case, we reduce the problem to two smaller subproblems: $P(n-1, K)$ and $P(n-1, K-k_n)$."
   ]
  },
  {
   "cell_type": "markdown",
   "metadata": {},
   "source": [
    "**Induction hypothesis (second attempt)**: We know how to solve $P(n-1, k)$ for all $0 \\le k \\le K$.\n",
    "\n",
    "* The base case $P(1, k)$ for all $0 \\le k \\le K$ can be easily solved: If $K=0$, then there is always a trivial solution. Otherwise, there is a solution only if the first item is of size $k$.\n",
    "\n",
    "* We now redce $P(n, k)$ to two problems $P(n-1, k)$ and $P(n-1, k-k_n)$.\n",
    "\n",
    " * If $k-k_n \\lt 0$, we ignore the second problem.\n",
    " * Now we reduced a problem od size $n$ to two problems of size $n-1$. (We also reduce the value of $k$ in one subproblem).\n",
    " * However, the algorithm may be inefficient. (an exponential algorithm)\n",
    " \n",
    "* $P(i, k)$ denotes the problem with the first $i$ items and and a knapsack of size $k$.\n",
    " * There are $n$ possibilities for the first parameters and $K$ possibilities for the second one.\n",
    " * Overall, there are $nK$ different possible problems.\n",
    " * But the running time of the algorithm resulted from doubling the number of problems after every reduction.\n",
    " * In this case, some problems have been solved many times.\n",
    " * So we can store all the known results in an $n \\times K$ matrix."
   ]
  },
  {
   "cell_type": "markdown",
   "metadata": {},
   "source": [
    "|      | 0 | 1 | 2 | 3 | 4 | 5 | 6 | 7 | 8 | 9 | 10 | 11 | 12 | 13 | 14 | 15 | 16 |\n",
    "|------|---|---|---|---|---|---|---|---|---|---|----|----|----|----|----|----|----|\n",
    "| k0   | O | - | - | - | - | - | - | - | - | - | -  | -  | -  | -  | -  | -  | -  |\n",
    "| k1=2 | O | - | I | - | - | - | - | - | - | - | -  | -  | -  | -  | -  | -  | -  |\n",
    "| k2=3 | O | - | O | I | - | I | - | - | - | - | -  | -  | -  | -  | -  | -  | -  |\n",
    "| k3=5 | O | - | O | O | - | O |   | I | I | - | I  | -  | -  | -  | -  | -  | -  |\n",
    "| k4=6 | O | - | O | O | - | O | I | O | O | - | O  | I  | -  | I  | I  | -  | I  |\n",
    "\n",
    "I: a solution containing this item\n",
    "\n",
    "O: a solution without this item\n",
    "\n",
    "-: no solution"
   ]
  },
  {
   "cell_type": "code",
   "execution_count": 1,
   "metadata": {},
   "outputs": [],
   "source": [
    "def knapsack_dp(items, K):\n",
    "    \n",
    "    # [exist, belong]\n",
    "    table = [[[None, None] for k in range(K+1)] for i in range(len(items)+1)]\n",
    "    \n",
    "    # base case: first cell\n",
    "    table[0][0] = [True, False]\n",
    "    \n",
    "    # base case: first row\n",
    "    for k in range(1, K+1):\n",
    "        table[0][k] = [False, False]\n",
    "        \n",
    "    # for each row in the table\n",
    "    for i in range(1, len(items)+1):\n",
    "        item_name, size = items[i-1]\n",
    "        for k in range(K+1):\n",
    "            table[i][k] = [False, False] # init default value\n",
    "            \n",
    "            # subproblem 1\n",
    "            if table[i-1][k][0] == True:\n",
    "                table[i][k] = [True, False]\n",
    "            \n",
    "            elif k >= size: # do not ignore subproblem 2\n",
    "                if table[i-1][k-size][0] == True:\n",
    "                    table[i][k] = [True, True]\n",
    "    return table"
   ]
  },
  {
   "cell_type": "code",
   "execution_count": 2,
   "metadata": {},
   "outputs": [],
   "source": [
    "def print_table(table):\n",
    "    n = len(table)\n",
    "    k = len(table[0])\n",
    "    \n",
    "    for i in range(n):\n",
    "        for j in range(k):\n",
    "            if table[i][j][0] and table[i][j][1]:\n",
    "                print(\"I \", end='')\n",
    "            elif table[i][j][0] and not table[i][j][1]:\n",
    "                print(\"O \", end='')\n",
    "            else:\n",
    "                print('- ', end='')\n",
    "        print()"
   ]
  },
  {
   "cell_type": "code",
   "execution_count": 3,
   "metadata": {},
   "outputs": [
    {
     "name": "stdout",
     "output_type": "stream",
     "text": [
      "O - - - - - - - - - - - - - - - - \n",
      "O - I - - - - - - - - - - - - - - \n",
      "O - O I - I - - - - - - - - - - - \n",
      "O - O O - O - I I - I - - - - - - \n",
      "O - O O - O I O O I O I - I I - I \n"
     ]
    }
   ],
   "source": [
    "items = [('k1', 2), ('k2', 3), ('k3', 5), ('k4', 6)]\n",
    "t = knapsack_dp(items, 16)\n",
    "print_table(t)"
   ]
  },
  {
   "cell_type": "code",
   "execution_count": 4,
   "metadata": {},
   "outputs": [],
   "source": [
    "# Q: Big O?"
   ]
  },
  {
   "cell_type": "code",
   "execution_count": 5,
   "metadata": {},
   "outputs": [],
   "source": [
    "def knapsack_re(items, k):\n",
    "    \n",
    "    # base case: first cell\n",
    "    if len(items) == 0 and k == 0:\n",
    "        return True\n",
    "    \n",
    "    # base case: first row\n",
    "    if len(items) == 0 and k > 0:\n",
    "        return False\n",
    "    \n",
    "    # divide\n",
    "    for item in items:\n",
    "        size = item\n",
    "        \n",
    "        # sub 1\n",
    "        cur_items = items.copy()\n",
    "        cur_items.remove(item)\n",
    "        \n",
    "        sub1 = knapsack_re(cur_items, k) # conquer\n",
    "        if sub1:\n",
    "            return True # merge\n",
    "        \n",
    "        # sub 2\n",
    "        if k >= size:\n",
    "            cur_items = items.copy()\n",
    "            cur_items.remove(item)\n",
    "            sub2 = knapsack_re(cur_items, k-size) # conquer\n",
    "            if sub2:\n",
    "                return True # merge\n",
    "    \n",
    "    return False # merge"
   ]
  },
  {
   "cell_type": "code",
   "execution_count": 6,
   "metadata": {},
   "outputs": [
    {
     "name": "stdout",
     "output_type": "stream",
     "text": [
      "0 True\n",
      "1 False\n",
      "2 True\n",
      "3 True\n",
      "4 False\n",
      "5 True\n",
      "6 True\n",
      "7 True\n",
      "8 True\n",
      "9 True\n",
      "10 True\n",
      "11 True\n",
      "12 False\n",
      "13 True\n",
      "14 True\n",
      "15 False\n",
      "16 True\n"
     ]
    }
   ],
   "source": [
    "items = [2, 3, 5, 6]\n",
    "\n",
    "for k in range(17):\n",
    "    print(k, knapsack_re(items, k))"
   ]
  },
  {
   "cell_type": "markdown",
   "metadata": {},
   "source": [
    "### Global/Local Sequence Alignment\n",
    "\n",
    "Local alognment: **Smith–Waterman** algorithm https://en.wikipedia.org/wiki/Smith%E2%80%93Waterman_algorithm"
   ]
  },
  {
   "cell_type": "code",
   "execution_count": 7,
   "metadata": {},
   "outputs": [
    {
     "data": {
      "image/png": "[encoded data removed]",
      "text/plain": [
       "<IPython.core.display.Image object>"
      ]
     },
     "execution_count": 7,
     "metadata": {
      "image/png": {
       "width": 300
      }
     },
     "output_type": "execute_result"
    }
   ],
   "source": [
    "from IPython.display import Image\n",
    "Image(filename='Smith-Waterman.png', width=300)"
   ]
  },
  {
   "cell_type": "markdown",
   "metadata": {},
   "source": [
    "Smith–Waterman Scoring Matrix\n",
    "https://en.wikipedia.org/wiki/Smith%E2%80%93Waterman_algorithm\n",
    "\n",
    "step 1: the score in the first column cells and the first row cells is zero. \n",
    "\n",
    "For each cell, compute the max of the following values\n",
    "* ==: +S(ai, bj) where ai==bj, e.g., +3\n",
    "* !=: +S(ai, bj) where ai!=bj, e.g., -3\n",
    "* gap penalty: -W1, e.g., -2\n",
    "* 0"
   ]
  },
  {
   "cell_type": "code",
   "execution_count": 8,
   "metadata": {},
   "outputs": [
    {
     "data": {
      "image/png": "[encoded data removed]",
      "text/plain": [
       "<IPython.core.display.Image object>"
      ]
     },
     "execution_count": 8,
     "metadata": {
      "image/png": {
       "width": 800
      }
     },
     "output_type": "execute_result"
    }
   ],
   "source": [
    "Image(filename='Smith-Waterman-Example.png', width=800)"
   ]
  },
  {
   "cell_type": "code",
   "execution_count": 9,
   "metadata": {},
   "outputs": [],
   "source": [
    "# Q: Big O?\n",
    "# Q: How to improve such dynamic programming problem?\n",
    "\n",
    "# Note: there are many variants of Smith-Waterman\n",
    "# for example, gap penalty is not linear, reward is related to i and j, and etc."
   ]
  },
  {
   "cell_type": "code",
   "execution_count": 10,
   "metadata": {},
   "outputs": [],
   "source": [
    "x = \"0TGTTACGG\"\n",
    "y = \"0GGTTGACTA\"\n",
    "\n",
    "S = 3\n",
    "G = 2"
   ]
  },
  {
   "cell_type": "code",
   "execution_count": 11,
   "metadata": {},
   "outputs": [
    {
     "name": "stdout",
     "output_type": "stream",
     "text": [
      "[[0, 0, 0, 0, 0, 0, 0, 0, 0],\n",
      " [0, 0, 0, 0, 0, 0, 0, 0, 0],\n",
      " [0, 0, 0, 0, 0, 0, 0, 0, 0],\n",
      " [0, 0, 0, 0, 0, 0, 0, 0, 0],\n",
      " [0, 0, 0, 0, 0, 0, 0, 0, 0],\n",
      " [0, 0, 0, 0, 0, 0, 0, 0, 0],\n",
      " [0, 0, 0, 0, 0, 0, 0, 0, 0],\n",
      " [0, 0, 0, 0, 0, 0, 0, 0, 0],\n",
      " [0, 0, 0, 0, 0, 0, 0, 0, 0],\n",
      " [0, 0, 0, 0, 0, 0, 0, 0, 0]]\n"
     ]
    }
   ],
   "source": [
    "import pprint\n",
    "\n",
    "scoringMatrix = [[0 for _ in range(len(x))] for _ in range(len(y))]\n",
    "walkMatrix = [[0 for _ in range(len(x))] for _ in range(len(y))]\n",
    "\n",
    "pprint.pprint(scoringMatrix)"
   ]
  },
  {
   "cell_type": "code",
   "execution_count": 12,
   "metadata": {},
   "outputs": [],
   "source": [
    "# dynamic programming for local alignment\n",
    "\n",
    "def localAlign(x, y, S, G, scoringMatrix, walkMatrix):\n",
    "    \n",
    "    m = len(x)\n",
    "    n = len(y)\n",
    "    \n",
    "    highest_score = 0\n",
    "    highest_xy = (0, 0)\n",
    "    \n",
    "    for i in range(1, n): # first col/row are all zeros, no need to process\n",
    "        for j in range(1, m):\n",
    "\n",
    "            # case 1: matched or mismatched\n",
    "            if x[j] == y[i]:\n",
    "                top_left = scoringMatrix[i-1][j-1] + S\n",
    "                label = 'o'\n",
    "            else:\n",
    "                top_left = scoringMatrix[i-1][j-1] - S\n",
    "                label = 'x'\n",
    "\n",
    "            # case 2: gap top (linear penalty)\n",
    "            top = scoringMatrix[i-1][j] - G\n",
    "\n",
    "            # case 3: gap left (linear penalty)\n",
    "            left = scoringMatrix[i][j-1] - G\n",
    "\n",
    "\n",
    "            # record scoringMatrix and walkMatrix\n",
    "            scoringMatrix[i][j] = max(top_left, top, left, 0)\n",
    "\n",
    "            if scoringMatrix[i][j] == top_left:\n",
    "                walkMatrix[i][j] = label\n",
    "            elif scoringMatrix[i][j] == top:\n",
    "                walkMatrix[i][j] = 't'\n",
    "            elif scoringMatrix[i][j] == left:\n",
    "                walkMatrix[i][j] = 'l'\n",
    "            else:\n",
    "                walkMatrix[i][j] = 0\n",
    "\n",
    "            # record highest_score and highest_xy\n",
    "            if scoringMatrix[i][j] > highest_score:\n",
    "                highest_score = scoringMatrix[i][j]\n",
    "                highest_xy = (i, j)\n",
    "                \n",
    "    return highest_score, highest_xy"
   ]
  },
  {
   "cell_type": "code",
   "execution_count": 13,
   "metadata": {},
   "outputs": [
    {
     "name": "stdout",
     "output_type": "stream",
     "text": [
      "13\n",
      "(7, 6)\n",
      "0 0 0 0 0 0 0 0 0 \n",
      "0 0 3 1 0 0 0 3 3 \n",
      "0 0 3 1 0 0 0 3 6 \n",
      "0 3 1 6 4 2 0 1 4 \n",
      "0 3 1 4 9 7 5 3 2 \n",
      "0 1 6 4 7 6 4 8 6 \n",
      "0 0 4 3 5 10 8 6 5 \n",
      "0 0 2 1 3 8 13 11 9 \n",
      "0 3 1 5 4 6 11 10 8 \n",
      "0 1 0 3 2 7 9 8 7 \n",
      "\n",
      "0 0 0 0 0 0 0 0 0 \n",
      "0 0 o l 0 0 0 o o \n",
      "0 0 o l 0 0 0 o o \n",
      "0 o t o o l l t t \n",
      "0 o l o o l l l t \n",
      "0 t o l t x x o o \n",
      "0 0 t x t o l t x \n",
      "0 0 t x t t o l l \n",
      "0 o l o o t t x x \n",
      "0 t x t x o t x x \n"
     ]
    }
   ],
   "source": [
    "highest_score, highest_xy = localAlign(x, y, S, G, scoringMatrix, walkMatrix)\n",
    "\n",
    "print(highest_score)\n",
    "print(highest_xy)\n",
    "\n",
    "for row in scoringMatrix:\n",
    "    for cell in row:\n",
    "        print(cell, \"\", end=\"\")\n",
    "    print()\n",
    "\n",
    "print()\n",
    "\n",
    "for row in walkMatrix:\n",
    "    for cell in row:\n",
    "        print(cell, \"\", end=\"\")\n",
    "    print()"
   ]
  },
  {
   "cell_type": "code",
   "execution_count": 14,
   "metadata": {},
   "outputs": [
    {
     "name": "stdout",
     "output_type": "stream",
     "text": [
      "C C o 13\n",
      "A A o 10\n",
      "- G t 7\n",
      "T T o 9\n",
      "T T o 6\n",
      "G G o 3\n"
     ]
    }
   ],
   "source": [
    "i, j = highest_xy\n",
    "\n",
    "while i != 0 and j != 0:\n",
    "    if walkMatrix[i][j] == 'o':\n",
    "        print(x[j], y[i], walkMatrix[i][j], scoringMatrix[i][j])\n",
    "        i -= 1\n",
    "        j -= 1\n",
    "    elif walkMatrix[i][j] == 't':\n",
    "        print('-', y[i], walkMatrix[i][j], scoringMatrix[i][j])\n",
    "        i -= 1\n",
    "    elif walkMatrix[i][j] == 'l':\n",
    "        print(x[j], '-', walkMatrix[i][j], scoringMatrix[i][j])\n",
    "        j -= 1\n",
    "    else: # 0\n",
    "        break"
   ]
  },
  {
   "cell_type": "markdown",
   "metadata": {},
   "source": [
    "Global alignment: **Needleman–Wunsch** algorithm https://en.wikipedia.org/wiki/Needleman%E2%80%93Wunsch_algorithm"
   ]
  },
  {
   "cell_type": "code",
   "execution_count": 15,
   "metadata": {},
   "outputs": [],
   "source": [
    "x_g = \"0GCATGCU\"\n",
    "y_g = \"0GATTACA\"\n",
    "\n",
    "m_g = len(x_g)\n",
    "n_g = len(y_g)\n",
    "\n",
    "S_g = 1\n",
    "G_g = 1"
   ]
  },
  {
   "cell_type": "code",
   "execution_count": 16,
   "metadata": {},
   "outputs": [],
   "source": [
    "scoringMatrix_g = [[0 if j != 0 else -i for j in range(m_g)] if i != 0 else [-j for j in range(m_g)] for i in range(n_g)]\n",
    "walkMatrix_g = [[0 for _ in range(m_g)] for _ in range(n_g)]"
   ]
  },
  {
   "cell_type": "code",
   "execution_count": 17,
   "metadata": {},
   "outputs": [
    {
     "data": {
      "text/plain": [
       "[[0, -1, -2, -3, -4, -5, -6, -7],\n",
       " [-1, 0, 0, 0, 0, 0, 0, 0],\n",
       " [-2, 0, 0, 0, 0, 0, 0, 0],\n",
       " [-3, 0, 0, 0, 0, 0, 0, 0],\n",
       " [-4, 0, 0, 0, 0, 0, 0, 0],\n",
       " [-5, 0, 0, 0, 0, 0, 0, 0],\n",
       " [-6, 0, 0, 0, 0, 0, 0, 0],\n",
       " [-7, 0, 0, 0, 0, 0, 0, 0]]"
      ]
     },
     "execution_count": 17,
     "metadata": {},
     "output_type": "execute_result"
    }
   ],
   "source": [
    "scoringMatrix_g"
   ]
  },
  {
   "cell_type": "code",
   "execution_count": 18,
   "metadata": {},
   "outputs": [],
   "source": [
    "# the rest of the codes are 'almost' the same as Smith-Waterman\n",
    "# scoringMatrix_g is different."
   ]
  },
  {
   "cell_type": "code",
   "execution_count": 19,
   "metadata": {},
   "outputs": [],
   "source": [
    "# dynamic programming for global alignment\n",
    "\n",
    "def globalAlign(x, y, S, G, scoringMatrix, walkMatrix):\n",
    "    \n",
    "    m = len(x)\n",
    "    n = len(y)\n",
    "    \n",
    "    for i in range(1, n):\n",
    "        for j in range(1, m):\n",
    "\n",
    "            # case 1: matched or mismatched\n",
    "            if x[j] == y[i]:\n",
    "                top_left = scoringMatrix[i-1][j-1] + S\n",
    "                label = 'o'\n",
    "            else:\n",
    "                top_left = scoringMatrix[i-1][j-1] - S\n",
    "                label = 'x'\n",
    "\n",
    "            # case 2: gap top (linear penalty)\n",
    "            top = scoringMatrix[i-1][j] - G\n",
    "\n",
    "            # case 3: gap left (linear penalty)\n",
    "            left = scoringMatrix[i][j-1] - G\n",
    "\n",
    "\n",
    "            # record scoringMatrix and walkMatrix\n",
    "            scoringMatrix[i][j] = max(top_left, top, left) # <---- different here\n",
    "\n",
    "            if scoringMatrix[i][j] == top_left:\n",
    "                walkMatrix[i][j] = label\n",
    "            elif scoringMatrix[i][j] == top:\n",
    "                walkMatrix[i][j] = 't'\n",
    "            elif scoringMatrix[i][j] == left:\n",
    "                walkMatrix[i][j] = 'l'"
   ]
  },
  {
   "cell_type": "code",
   "execution_count": 20,
   "metadata": {},
   "outputs": [
    {
     "name": "stdout",
     "output_type": "stream",
     "text": [
      "0 -1 -2 -3 -4 -5 -6 -7 \n",
      "-1 1 0 -1 -2 -3 -4 -5 \n",
      "-2 0 0 1 0 -1 -2 -3 \n",
      "-3 -1 -1 0 2 1 0 -1 \n",
      "-4 -2 -2 -1 1 1 0 -1 \n",
      "-5 -3 -3 -1 0 0 0 -1 \n",
      "-6 -4 -2 -2 -1 -1 1 0 \n",
      "-7 -5 -3 -1 -2 -2 0 0 \n",
      "\n",
      "0 0 0 0 0 0 0 0 \n",
      "0 o l l l o l l \n",
      "0 t x o l l l l \n",
      "0 t x t o l l l \n",
      "0 t x t o x x x \n",
      "0 t x o t x x x \n",
      "0 t o t t x o l \n",
      "0 t t o t x t x \n"
     ]
    }
   ],
   "source": [
    "globalAlign(x_g, y_g, S_g, G_g, scoringMatrix_g, walkMatrix_g)\n",
    "\n",
    "for row in scoringMatrix_g:\n",
    "    for cell in row:\n",
    "        print(cell, \"\", end=\"\")\n",
    "    print()\n",
    "\n",
    "print()\n",
    "\n",
    "for row in walkMatrix_g:\n",
    "    for cell in row:\n",
    "        print(cell, \"\", end=\"\")\n",
    "    print()"
   ]
  },
  {
   "cell_type": "code",
   "execution_count": 21,
   "metadata": {},
   "outputs": [
    {
     "name": "stdout",
     "output_type": "stream",
     "text": [
      "U A x 0\n",
      "C C o 1\n",
      "G A x 0\n",
      "T T o 1\n",
      "- T t 0\n",
      "A A o 1\n",
      "C - l 0\n",
      "G G o 1\n"
     ]
    }
   ],
   "source": [
    "i, j = len(x_g)-1, len(y_g)-1 # <---- different here\n",
    "\n",
    "while not (i == 0 or j == 0):\n",
    "    if walkMatrix_g[i][j] == 'o' or walkMatrix_g[i][j] == 'x': # <---- different here\n",
    "        print(x_g[j], y_g[i], walkMatrix_g[i][j], scoringMatrix_g[i][j])\n",
    "        i -= 1\n",
    "        j -= 1\n",
    "    elif walkMatrix_g[i][j] == 't':\n",
    "        print('-', y_g[i], walkMatrix_g[i][j], scoringMatrix_g[i][j])\n",
    "        i -= 1\n",
    "    elif walkMatrix_g[i][j] == 'l':\n",
    "        print(x_g[j], '-', walkMatrix_g[i][j], scoringMatrix_g[i][j])\n",
    "        j -= 1"
   ]
  }
 ],
 "metadata": {
  "kernelspec": {
   "display_name": "Python [default]",
   "language": "python",
   "name": "python3"
  },
  "language_info": {
   "codemirror_mode": {
    "name": "ipython",
    "version": 3
   },
   "file_extension": ".py",
   "mimetype": "text/x-python",
   "name": "python",
   "nbconvert_exporter": "python",
   "pygments_lexer": "ipython3",
   "version": "3.6.3"
  }
 },
 "nbformat": 4,
 "nbformat_minor": 2
}
