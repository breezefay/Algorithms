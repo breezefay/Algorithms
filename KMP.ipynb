{
 "cells": [
  {
   "cell_type": "markdown",
   "metadata": {},
   "source": [
    "## String Matching -- KMP (Knuth–Morris–Pratt algorithm)\n",
    "\n",
    "\n",
    "Given two strings $A$ and $B$, find the first occurrence (if any) of $B$ in $A$. In other words, find the smallerst $k$, such that for all $i$, $1 \\le i \\le m$, we have $a_{k+i} = b_i$.\n",
    "\n",
    "A straightforward string matching algorithm is $O(mn)$.\n",
    "\n",
    "Any better algorithm? Hint: we may want to reduce the number of comparison of two characters that have been already compared before."
   ]
  },
  {
   "cell_type": "code",
   "execution_count": 1,
   "metadata": {},
   "outputs": [
    {
     "name": "stdout",
     "output_type": "stream",
     "text": [
      "12 xyxyyxyxyxx\n"
     ]
    }
   ],
   "source": [
    "A = 'xyxxyxyxyyxyxyxyyxyxyxx'\n",
    "B = 'xyxyyxyxyxx'\n",
    "\n",
    "n = len(A)\n",
    "m = len(B)\n",
    "\n",
    "# O(mn) solution!\n",
    "for i in range(n-m+1):\n",
    "    stillTrue = True\n",
    "    for j in range(m):\n",
    "        if A[i+j] != B[j]:\n",
    "            stillTrue = False\n",
    "            break\n",
    "    if stillTrue:\n",
    "        print(i, B)"
   ]
  },
  {
   "cell_type": "code",
   "execution_count": 2,
   "metadata": {},
   "outputs": [
    {
     "name": "stdout",
     "output_type": "stream",
     "text": [
      " A xyxxyxyxyyxyxyxyyxyxyxx\n",
      " B xyxyyxyxyxx\n",
      "---------------\n",
      " 1 xyxy\n",
      " 2  x\n",
      " 3   xy\n",
      " 4    xyxyy\n",
      " 5     x\n",
      " 6      xyxyyxyxyxx\n",
      " 7       x\n",
      " 8        xyx\n",
      " 9         x\n",
      "10          x\n",
      "11           xyxyy\n",
      "12            x\n",
      "13             xyxyyxyxyxx\n"
     ]
    }
   ],
   "source": [
    "# just for printing the following table to explain\n",
    "# not an algorithm.\n",
    "for i in range(n-m+1):\n",
    "    if i==0:\n",
    "        print(\" A\", A)\n",
    "        print(\" B\", B)\n",
    "        print(\"---------------\")\n",
    "    print(\"{0:2d}\".format(i+1), \"\", end=\"\")\n",
    "    for s in range(i):\n",
    "        print(\" \", end=\"\")\n",
    "    for j in range(m):\n",
    "        if A[i+j] == B[j]:\n",
    "            print (B[j], end=\"\")\n",
    "        else:\n",
    "            print (B[j], end=\"\")\n",
    "            break\n",
    "\n",
    "    print()"
   ]
  },
  {
   "cell_type": "markdown",
   "metadata": {},
   "source": [
    "Hint: we can analysis the structure of B to reduce the number of comparison.\n",
    "Take a look at line 6 of the above example.\n",
    "\n",
    "We know $B(10) = b_1 b_2 \\dots b_{10}$ is exactly the same as $A[6 \\dots 15]$. We want to determine exactly how many steps $B$ can be shifted to the right until there is some hope of another match. We determine this number by looking for a maximum *suffix* of $B(10)$ that is equal to a *prefix* of B. In this case, that suffix is of length 3 (xyx)."
   ]
  },
  {
   "cell_type": "code",
   "execution_count": 3,
   "metadata": {},
   "outputs": [
    {
     "name": "stdout",
     "output_type": "stream",
     "text": [
      "B10 xyxyyxyxyx\n",
      "---------------\n",
      "  1 xyxyyxyxyx\n",
      "  2  x\n",
      "  3   xyx\n",
      "  4    x\n",
      "  5     x\n",
      "  6      xyxyy\n",
      "  7       x\n",
      "  8        xyx\n",
      "  9         x\n",
      " 10          x\n"
     ]
    }
   ],
   "source": [
    "# just for printing the following table to explain\n",
    "# not an algorithm.\n",
    "\n",
    "# In the following example, \n",
    "# B(10) is shifted, one step at a time,\n",
    "# and is compared to itself,\n",
    "# until a prefix matches a suffix.\n",
    "# We ignore b11, since it is mismatched.\n",
    "\n",
    "B10 = B[:-1]\n",
    "\n",
    "for i in range(len(B10)):\n",
    "    if i==0:\n",
    "        print(\"B10\", B10)\n",
    "        print(\"---------------\")\n",
    "    print(\" {0:2d}\".format(i+1), \"\", end=\"\")\n",
    "    for s in range(i):\n",
    "        print(\" \", end=\"\")\n",
    "    for j in range(len(B10)):\n",
    "        if i+j > len(B10)-1:\n",
    "            break\n",
    "        if B10[i+j] == B10[j]:\n",
    "            print (B10[j], end=\"\")\n",
    "        else:\n",
    "            print (B10[j], end=\"\")\n",
    "            break\n",
    "\n",
    "    print()\n",
    "    \n",
    "\n",
    "# For B(10),\n",
    "# we find that there are some prefix == suffix\n",
    "#\n",
    "# 1 xyxyyxyxyx == xyxyyxyxyx\n",
    "# 2 xyxyyxyxy != yxyyxyxyx\n",
    "# 3 xyxyyxyx != xyyxyxyx\n",
    "# 4 xyxyyxy != yyxyxyx\n",
    "# 5 xyxyyx != yxyxyx\n",
    "# 6 xyxyy != xyxyx\n",
    "# 7 xyxy != yxyx\n",
    "# 8 xyx == xyx\n",
    "# 9 xy != yx\n",
    "#10 x == x\n",
    "\n",
    "# In this case, in the 2nd cell, at line 6,\n",
    "# when b11 != a16,\n",
    "# we can skip the comparisons on line 7 to 12 and half those on line 13."
   ]
  },
  {
   "cell_type": "markdown",
   "metadata": {},
   "source": [
    "We want to devise a way to handle mismatches when they occur withour backtracking.\n",
    "When a mismatch is encountered, we consult a table to find how far in B we backtrack.\n",
    "\n",
    "For each $b_i$, we want to find the largest suffix of $B(i-1)$ that is equal to a prefix of $B(i-1)$. If the length of this suffix is $j$, then the mismatched character in $A$ can be matched againist $b_{j+1}$ directly. Because we already know that the most recent $j$ characters in $A$ match the begining of $B$. The table is called *next()*.\n",
    "\n",
    "$next(i)$ = the max $j$ ($0 \\lt j \\lt i-1$) such that\n",
    "$b_{i-j} b_{i-j+1} \\dots b_{i-1} = B(j)$, and 0 if no such $j$ exists. \n",
    "\n",
    "For convenience, we define $next(1) = -1$."
   ]
  },
  {
   "cell_type": "code",
   "execution_count": 4,
   "metadata": {},
   "outputs": [
    {
     "name": "stdout",
     "output_type": "stream",
     "text": [
      " 1 2 3 4 5 6 7 8 91011\n",
      " x y x y y x y x y x x\n",
      "-1 0 0 1 2 0 1 2 3 4 3"
     ]
    }
   ],
   "source": [
    "# Lets take a look at the next table fisrt, then discuss how to compute the table.\n",
    "\n",
    "_next = [-1, 0, 0, 1, 2, 0, 1, 2, 3, 4, 3]\n",
    "\n",
    "for i in range(len(B)):\n",
    "    print(\"{0:2d}\".format(i+1), end=\"\")\n",
    "print()\n",
    "for i in range(len(B)):\n",
    "    print(\"{0:>2}\".format(B[i]), end=\"\")\n",
    "print()\n",
    "for i in range(len(_next)):\n",
    "    print(\"{0:>2}\".format(_next[i]), end=\"\")"
   ]
  },
  {
   "cell_type": "code",
   "execution_count": 5,
   "metadata": {},
   "outputs": [
    {
     "data": {
      "text/plain": [
       "'\\nA note for you!\\n\\nIf B[j] is mismatched, we look at B[1]~B[j-1],\\nwe find the max prefix and suffix in B[1]~B[j-1].\\nIt specifiies the number of window to slide for such mismatch of B[j].\\nWe called it next[j].\\nWe define next[1] = -1 to distinguish the base case.\\n\\nIn this case, next[10] = 4. (xyxy)\\n'"
      ]
     },
     "execution_count": 5,
     "metadata": {},
     "output_type": "execute_result"
    }
   ],
   "source": [
    "'''\n",
    "A note for you!\n",
    "\n",
    "If B[j] is mismatched, we look at B[1]~B[j-1],\n",
    "we find the max prefix and suffix in B[1]~B[j-1].\n",
    "It specifiies the number of window to slide for such mismatch of B[j].\n",
    "We called it next[j].\n",
    "We define next[1] = -1 to distinguish the base case.\n",
    "\n",
    "In this case, next[10] = 4. (xyxy)\n",
    "'''"
   ]
  },
  {
   "cell_type": "code",
   "execution_count": 6,
   "metadata": {},
   "outputs": [],
   "source": [
    "# Note, in python string starts from 0.\n",
    "\n",
    "def string_match(A, B):\n",
    "    global _next # assume we have it.\n",
    "    \n",
    "    n = len(A)\n",
    "    m = len(B)\n",
    "    \n",
    "    i = 0 # start from A[i]\n",
    "    j = 0 # start from B[j]\n",
    "\n",
    "    while i < n: # run through A[0] to A[n-1]\n",
    "        # if matched, continue next character\n",
    "        if B[j] == A[i]:\n",
    "            print(i, j, 'matched')\n",
    "            j += 1\n",
    "            i += 1\n",
    "        else: # mismatch\n",
    "            print(i, j, 'mismatched')\n",
    "            \n",
    "            if _next[j] == -1: # B[0] mismatch, keep using B[0] and new A[i+1]\n",
    "                i += 1\n",
    "            elif _next[j] == 0: # no way to skip, keep using A[i] and new B[0]\n",
    "                j = 0\n",
    "            else: # we have prefix/suffix of length _next[j], j can skip to _next[j] for next round\n",
    "                j = _next[j] \n",
    "            print(i, j, 'next round')\n",
    "\n",
    "        if j == m: # if B[j] goes to B[m], all chars in B are matched\n",
    "            print(i, j)\n",
    "            return  (i - m) # return index of A[i-m], which is the 1st index such that B is a substr of A starting at A[i-m]\n"
   ]
  },
  {
   "cell_type": "code",
   "execution_count": 7,
   "metadata": {},
   "outputs": [
    {
     "name": "stdout",
     "output_type": "stream",
     "text": [
      " 0 1 2 3 4 5 6 7 8 910111213141516171819202122\n",
      " x y x x y x y x y y x y x y x y y x y x y x x\n",
      " x y x y y x y x y x x\n",
      "0 0 matched\n",
      "1 1 matched\n",
      "2 2 matched\n",
      "3 3 mismatched\n",
      "3 1 next round\n",
      "3 1 mismatched\n",
      "3 0 next round\n",
      "3 0 matched\n",
      "4 1 matched\n",
      "5 2 matched\n",
      "6 3 matched\n",
      "7 4 mismatched\n",
      "7 2 next round\n",
      "7 2 matched\n",
      "8 3 matched\n",
      "9 4 matched\n",
      "10 5 matched\n",
      "11 6 matched\n",
      "12 7 matched\n",
      "13 8 matched\n",
      "14 9 matched\n",
      "15 10 mismatched\n",
      "15 3 next round\n",
      "15 3 matched\n",
      "16 4 matched\n",
      "17 5 matched\n",
      "18 6 matched\n",
      "19 7 matched\n",
      "20 8 matched\n",
      "21 9 matched\n",
      "22 10 matched\n",
      "23 11\n",
      "12\n"
     ]
    }
   ],
   "source": [
    "for i in range(len(A)):\n",
    "    print(\"{0:2d}\".format(i), end=\"\")\n",
    "print()\n",
    "for i in range(len(A)):\n",
    "    print(\"{0:>2}\".format(A[i]), end=\"\")\n",
    "print()\n",
    "for i in range(len(B)):\n",
    "    print(\"{0:>2}\".format(B[i]), end=\"\")\n",
    "print()\n",
    "\n",
    "print(string_match(A, B))"
   ]
  },
  {
   "cell_type": "code",
   "execution_count": 8,
   "metadata": {},
   "outputs": [
    {
     "name": "stdout",
     "output_type": "stream",
     "text": [
      " 0 1 2 3 4 5 6 7 8 910\n",
      " x y x y y x y x y x x\n",
      "-1 0 0 1 2 0 1 2 3 4 3"
     ]
    }
   ],
   "source": [
    "for i in range(len(B)):\n",
    "    print(\"{0:2d}\".format(i), end=\"\")\n",
    "print()\n",
    "for i in range(len(B)):\n",
    "    print(\"{0:>2}\".format(B[i]), end=\"\")\n",
    "print()\n",
    "for i in range(len(_next)):\n",
    "    print(\"{0:>2}\".format(_next[i]), end=\"\")"
   ]
  },
  {
   "cell_type": "code",
   "execution_count": 9,
   "metadata": {},
   "outputs": [
    {
     "data": {
      "text/plain": [
       "[-1, 0, 0, 1, 2, 0, 1, 2, 3, 4, 3]"
      ]
     },
     "execution_count": 9,
     "metadata": {},
     "output_type": "execute_result"
    }
   ],
   "source": [
    "def compute_next(B):\n",
    "    next_ = [0] * len(B)\n",
    "    next_[0] = -1\n",
    "    next_[1] = 0\n",
    "    \n",
    "    for i in range(2, len(B)):\n",
    "        j = next_[i-1]\n",
    "        while B[i-1] != B[j] and j >= 0:\n",
    "            j = next_[j]\n",
    "        \n",
    "        if j == next_[i-1]: # no loop, best case\n",
    "            next_[i] = next_[i-1] + 1\n",
    "        elif j == -1: # loop to -1\n",
    "            next_[i] = 0\n",
    "        elif j == 0: # loop to somewhere 0\n",
    "            next_[i] = 0\n",
    "        else: # loop to somewhere\n",
    "            next_[i] = j + 1\n",
    "    \n",
    "    return next_\n",
    "\n",
    "compute_next(B)"
   ]
  }
 ],
 "metadata": {
  "kernelspec": {
   "display_name": "Python [default]",
   "language": "python",
   "name": "python3"
  },
  "language_info": {
   "codemirror_mode": {
    "name": "ipython",
    "version": 3
   },
   "file_extension": ".py",
   "mimetype": "text/x-python",
   "name": "python",
   "nbconvert_exporter": "python",
   "pygments_lexer": "ipython3",
   "version": "3.6.3"
  }
 },
 "nbformat": 4,
 "nbformat_minor": 2
}
