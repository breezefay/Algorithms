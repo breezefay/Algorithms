{
 "cells": [
  {
   "cell_type": "markdown",
   "metadata": {},
   "source": [
    "## Finding a Majority\n",
    "\n",
    "Let $E$ be a sequence of integers $x_1$, $x_2$, $\\dots$, $x_n$. The **multiplicity** of $x$ in $E$ is the number of times $x$ appears in $E$. A number $z$ is the **majority** in $E$ if its multiplicity is greater than $n/2$.\n",
    "\n",
    "**The Problem** Given a sequence of numbers, find the majority in the sequence or determine that none exists.\n",
    "\n",
    "Real world case: vote in election.\n",
    "\n",
    "Think: if the number of candidates is small, then *bucket sort* can be used effectivly to solve the problem in $O(n)$ time. However, if the number of possible candidates is very large, then bucket sort cannot be used."
   ]
  },
  {
   "cell_type": "markdown",
   "metadata": {},
   "source": [
    "### P.S. The explaination of bucket sort\n",
    "\n",
    "Assume that there are $n$ elements, all of which are integers in the range $1$ to $m$. We allocate $m$ buckets, and then, for each $i$, we put $x_i$ in the bucket corresponding to its value. At the end, we scan the buckets in order and collect all the elements. The time complexity of this example is $O(m+n)$. If $m = O(n)$, then we get a linear-time sorting algorithm. On the other hand, if $m$ is very large relative to $n$, then $O(m)$ is too large. In addition, the algorithm requires $O(m)$ storage, which is an even more serious problem for large $m$."
   ]
  },
  {
   "cell_type": "markdown",
   "metadata": {},
   "source": [
    "Think: The most straightforward way to solve this problem is to use sorting (requires $O(n log n)$). Any better way?\n",
    "\n",
    "Think: If there is a majority, then it must be equal to the *median* (the median is the $n/2$th smallest element, and the majority appears more than $n/2$ times). Therefore, once the median is found, we can count the number of times it appears, and if the median is not a majory, then there is no majority.\n",
    "\n",
    "Q: is finding the median easier than sorting?"
   ]
  },
  {
   "cell_type": "markdown",
   "metadata": {},
   "source": [
    "### P.S. Finding the $k$th-smallest element\n",
    "\n",
    "Given a sequence $S = x_i, x_2, \\dots, x_n$ of elements, and an integer $k$ such that $1 \\le k \\le n$, find the $k$th-smallest element in $S$.\n",
    "\n",
    "Think: If $k$ is very close to 1 or $n$, then we can find the $k$th-smallest element by running min() of max() $k$ times.\n",
    "\n",
    "Think: If devide and conqur useful?\n",
    "\n",
    "Hint: In quick sort, the sequence is partitioned be a pivot into two sequences. The two sequences are then sorted recursively. Here, we only need to determine whcih subsequence contains the $k$th smallest element, and then to continue the algorithm recursively *only for this subsequence*."
   ]
  },
  {
   "cell_type": "markdown",
   "metadata": {},
   "source": [
    "Think of another approach: **a probabilistic algorithm**. We can pick a small random samples, take the majority of the sample, and count the number of times this smaple majority appears in the whole sequence. However, although it is easy to verify that a given $x_i$ is a majority, it is impossible with this algorithm to prove that there is no majority."
   ]
  },
  {
   "cell_type": "markdown",
   "metadata": {},
   "source": [
    "### P.S. The Celebrity Problem\n",
    "\n",
    "Among $n$ persons, a *celebrity* is defined as someone who is known by everyone but does not know anyone. The problem is to identify the celebrity, if one exists, by asking questions \"Do you know the person over there?\" The goal is to minimize the number of questions.\n",
    "\n",
    "Think: Since there are $n(n-1)/2$ pairs of persons, there is potentiallt a need to ask $n(n-1)$ questions, in the worest case, if the questions are asked arbitrarily.\n",
    "\n",
    "Hint: We can use a graph-theoretical formulation. We can build a directed graph with the *vertices* corresponding to the persons and an edge from person $A$ to person $B$ if $A$ knows $B$. A celebrity corresponds to a **sink** of the graph. A sink is a vertex with *indegree* $n-1$ and *outdegree* 0. Notice that the graph can have at most one sink. The input to the problem corresponds to an $n \\times n$ matrix (whose $ij$ entry is 1 if the $i$th person knows the $j$th person, and 0 otherwise).\n",
    "\n",
    "Problem: Given a $n \\times n$ matrix, determine whether there exists an $i$ such that all entries in the $i$th column (except for the $ii$th entry) are 1, and all the entries in the $i$th row (except for the $ii$th entry) are 0.\n",
    "\n",
    "Base case: two persons is simple.\n",
    "\n",
    "Induction: consider the problem with $n-1$ persons and that with $n$ persons. Case 1: the celebrity is among the first $n-1$; case 2: the celebrity is the $n$th person; case 3: no celebrity.\n",
    "\n",
    "Case 1: easy, check the $n$th person knows the celebrity, and the celebrity does not know the $n$th person.\n",
    "\n",
    "Case 2/3: we need to ask $2(n-1)$ questions for this $n$th person. The total number of questions will be $n(n-1)$ that is what we want to avoid.\n",
    "\n",
    "New trick: It is hard to identify a celebrity, but it is easier to identify someone as a noncelebrity. If we eliminate someone from consideration, then we reduce the size of the problem from $n$ to $n-1$.\n",
    "\n",
    "Example: If we ask Alice wheather she kwnows Bob. If she does, then Alice is not celebrity; if she does not, then Bob cannot be a celebrity. We can eliminate one of them with one question.\n",
    "\n",
    "Hint: We now consider again the three cases. **We do not just take any arbitrary person as the $n$ person.** We ask one quesion (Alice, Bob) and eliminate eithr Alice or Bob (assume Alice), then solve the problem for the othr $n-1$ persons. If there is no celebrity in $n-1$ persons, then no celebrity in $n$. Otherwise, we check that Alice knows the celebrity and that the celebrity does not know Alice.\n",
    "\n",
    "Q: How many quesions aske? $(n-1)$ questions to eliminate first $n-1$ person, and additional $2(n-1)$ to verify the candidate. The worst case is $3(n-1)$, i.e. $O(n)$.\n",
    "\n",
    "Insight: The key idea is to reduce the size of the problem in a clever way. Do not start by simply considering an *arbitrary* input of size $n-1$. Sometimes we can select a *particular* input size $n-1$."
   ]
  },
  {
   "cell_type": "markdown",
   "metadata": {},
   "source": [
    "### Finding a Majority\n",
    "\n",
    "Finally we can start solve the original majority problem!\n",
    "\n",
    "Hint: As we did in finding a celebrity, we first try to eliminate as many elements as we can from being candidates for majority.\n",
    "\n",
    "Observation: If $x_i \\neq x_j$ and we eliminate both of these elements from $S$, then the majority in the original $S$ remains a majority in the current $S'$. (Notice that the opposite is not true: 1, 2, 5, 5, 3 has no majority, and we eliminate 1, 2, pair, then 5 becomes a new majority) So, if we find two unequal votes, we eliminate both, find the majority in the smaller list, and check wheather it is a majority in the original list."
   ]
  },
  {
   "cell_type": "code",
   "execution_count": 1,
   "metadata": {},
   "outputs": [],
   "source": [
    "def majority(X):\n",
    "    \n",
    "    n = len(X)\n",
    "    candidate = X[0]\n",
    "    multiplicity = 1\n",
    "    \n",
    "    # first scan, eliminate all but one candidate\n",
    "    for i in range(1, n):\n",
    "        if multiplicity == 0:\n",
    "            candidate = X[i]\n",
    "            multiplicity = 1\n",
    "        else:\n",
    "            if candidate == X[i]:\n",
    "                multiplicity += 1\n",
    "            else:\n",
    "                multiplicity -= 1\n",
    "                \n",
    "    print(candidate, multiplicity) # peek\n",
    "        \n",
    "    # second scan, check wheather candidate is a majority\n",
    "    if multiplicity == 0:\n",
    "        return False\n",
    "    else:\n",
    "        count = 0\n",
    "        for i in range(0, n):\n",
    "            if X[i] == candidate:\n",
    "                count += 1\n",
    "        if count > n/2:\n",
    "            return candidate\n",
    "        else:\n",
    "            return False"
   ]
  },
  {
   "cell_type": "code",
   "execution_count": 2,
   "metadata": {},
   "outputs": [
    {
     "name": "stdout",
     "output_type": "stream",
     "text": [
      "5 1\n",
      "False\n",
      "5 3\n",
      "5\n"
     ]
    }
   ],
   "source": [
    "print(majority([1, 2, 5, 5, 3]))\n",
    "print(majority([1, 2, 5, 5, 5]))"
   ]
  }
 ],
 "metadata": {
  "kernelspec": {
   "display_name": "Python [default]",
   "language": "python",
   "name": "python3"
  },
  "language_info": {
   "codemirror_mode": {
    "name": "ipython",
    "version": 3
   },
   "file_extension": ".py",
   "mimetype": "text/x-python",
   "name": "python",
   "nbconvert_exporter": "python",
   "pygments_lexer": "ipython3",
   "version": "3.6.3"
  }
 },
 "nbformat": 4,
 "nbformat_minor": 2
}
